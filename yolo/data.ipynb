{
 "cells": [
  {
   "cell_type": "code",
   "execution_count": null,
   "metadata": {},
   "outputs": [],
   "source": [
    "!git clone https://github.com/ultralytics/yolov5"
   ]
  },
  {
   "cell_type": "code",
   "execution_count": null,
   "metadata": {},
   "outputs": [],
   "source": [
    "cd ./yolov5"
   ]
  },
  {
   "cell_type": "code",
   "execution_count": null,
   "metadata": {},
   "outputs": [],
   "source": [
    "!pip install -qr requirements.txt"
   ]
  },
  {
   "cell_type": "code",
   "execution_count": null,
   "metadata": {},
   "outputs": [],
   "source": [
    "!curl -L \"https://public.roboflow.com/ds/bnOxs1QJLb?key=MvWCiB671m\" > roboflow.zip; unzip roboflow.zip; rm roboflow.zip"
   ]
  },
  {
   "cell_type": "code",
   "execution_count": 7,
   "metadata": {},
   "outputs": [],
   "source": [
    "import os\n",
    "import pandas as pd\n",
    "import shutil\n",
    "from glob import glob"
   ]
  },
  {
   "cell_type": "code",
   "execution_count": null,
   "metadata": {},
   "outputs": [],
   "source": [
    "cd ./data"
   ]
  },
  {
   "cell_type": "code",
   "execution_count": 8,
   "metadata": {},
   "outputs": [
    {
     "name": "stdout",
     "output_type": "stream",
     "text": [
      "c:\\Users\\oo\\Desktop\\data\n"
     ]
    }
   ],
   "source": [
    "\n",
    "p = os.getcwd() # 현재 폴더 위치\n",
    "\n",
    "print(p)"
   ]
  },
  {
   "cell_type": "code",
   "execution_count": 43,
   "metadata": {},
   "outputs": [],
   "source": [
    "def DataCreate(saveImg, saveLabel, ImgPath, Label, fileName, newName):\n",
    "    with open(Label, 'r') as f:\n",
    "        data = f.readlines()\n",
    "    with open(saveLabel+newName+'.txt', 'w') as f1:\n",
    "        for i in data:\n",
    "            classNum = i.split(' ')\n",
    "            if int(classNum[0]) == 48: #person\n",
    "                classNum[0] = '0'\n",
    "                f1.write(' '.join(classNum))\n",
    "\n",
    "            # if int(classNum[0]) == 7: #bed\n",
    "            #     classNum[0] = '0'\n",
    "            #     f1.write(' '.join(classNum))\n",
    "            \n",
    "            # elif int(classNum[0]) == 22: #chair\n",
    "            #     classNum[0] = '1'\n",
    "            #     f1.write(' '.join(classNum))\n",
    "                \n",
    "\n",
    "            # elif int(classNum[0]) == 26: # dining table\n",
    "            #     classNum[0] = '2'\n",
    "            #     f1.write(' '.join(classNum))\n",
    "            \n",
    "            # elif int(classNum[0]) == 42: # microwave\n",
    "            #     classNum[0] = '3'\n",
    "            #     f1.write(' '.join(classNum))\n",
    "\n",
    "            # elif int(classNum[0]) == 51: # refrigerator\n",
    "            #     classNum[0] = '4'\n",
    "            #     f1.write(' '.join(classNum))\n",
    "\n",
    "            # elif int(classNum[0]) == 60: # sofa\n",
    "            #     classNum[0] = '5'\n",
    "            #     f1.write(' '.join(classNum))\n",
    "\n",
    "            # elif int(classNum[0]) == 77: # tvmonitor\n",
    "            #     classNum[0] = '6'\n",
    "            #     f1.write(' '.join(classNum))\n",
    "                \n",
    "    f.close()\n",
    "    f1.close()\n",
    "    if open(saveLabel+newName+'.txt').read() == '':\n",
    "        os.remove(saveLabel+newName+'.txt')\n",
    "    else:\n",
    "        source = ImgPath + fileName+'.jpg'\n",
    "        destination = saveImg + newName+'.jpg'\n",
    "        shutil.copyfile(source, destination)"
   ]
  },
  {
   "cell_type": "code",
   "execution_count": 44,
   "metadata": {},
   "outputs": [
    {
     "name": "stdout",
     "output_type": "stream",
     "text": [
      "c:\\Users\\oo\\Desktop\\data\\train\\images\\000000009465_jpg.rf.3d5a6b94f8c1afdc004f2641cd578912.jpg \n",
      " 000000009465 \n",
      " 000000009465_jpg.rf.3d5a6b94f8c1afdc004f2641cd578912\n"
     ]
    }
   ],
   "source": [
    "timg = glob(p + '\\\\train\\\\images\\\\*')\n",
    "tlabel = glob(p + '\\\\train\\\\labels\\\\*')\n",
    "\n",
    "vimg = glob(p + '\\\\valid\\\\images\\\\*')\n",
    "vlabel = glob(p + '\\\\valid\\\\labels\\\\*')\n",
    "\n",
    "imgt = p + '\\\\datasets\\\\train\\\\images\\\\'\n",
    "labelst = p + '\\\\datasets\\\\train\\\\labels\\\\'\n",
    "\n",
    "imgv = p + '\\\\datasets\\\\valid\\\\images\\\\'\n",
    "labelsv = p + '\\\\datasets\\\\valid\\\\labels\\\\'\n",
    "# print(timg, '\\n', tlabel, '\\n', imgt, '\\n', labelst, '\\n',imgv, '\\n', labelsv, '\\n')\n",
    "\n",
    "a = (tlabel[0].split('\\\\')[-1]).split('_')[0]\n",
    "b = (tlabel[0].split('\\\\')[-1]).split('.txt')[0]\n",
    "print(timg[0],'\\n', a,'\\n', b)"
   ]
  },
  {
   "cell_type": "code",
   "execution_count": 46,
   "metadata": {},
   "outputs": [],
   "source": [
    "pathimg = p + '\\\\train\\\\images\\\\'\n",
    "for i in tlabel:\n",
    "    a = (i.split('\\\\')[-1]).split('_')[0]\n",
    "    b = (i.split('\\\\')[-1]).split('.txt')[0]\n",
    "    DataCreate(imgt, labelst, pathimg, i, b, a)"
   ]
  },
  {
   "cell_type": "code",
   "execution_count": 47,
   "metadata": {},
   "outputs": [
    {
     "name": "stdout",
     "output_type": "stream",
     "text": [
      "116406 \n",
      " 63101 \n",
      " 63101\n"
     ]
    }
   ],
   "source": [
    "img = glob(imgt+'*')\n",
    "lbe = glob(labelst+'*')\n",
    "print(len(timg),'\\n',len(img),'\\n',len(lbe))"
   ]
  },
  {
   "cell_type": "code",
   "execution_count": 48,
   "metadata": {},
   "outputs": [],
   "source": [
    "pathimgv = p + '\\\\valid\\\\images\\\\'\n",
    "for i in vlabel:\n",
    "    a = (i.split('\\\\')[-1]).split('_')[0]\n",
    "    b = (i.split('\\\\')[-1]).split('.txt')[0]\n",
    "    DataCreate(imgv, labelsv, pathimgv, i, b, a)"
   ]
  },
  {
   "cell_type": "code",
   "execution_count": 49,
   "metadata": {},
   "outputs": [
    {
     "name": "stdout",
     "output_type": "stream",
     "text": [
      "5000 \n",
      " 2693 \n",
      " 2693\n"
     ]
    }
   ],
   "source": [
    "img = glob(imgv+'*')\n",
    "lbe = glob(labelsv+'*')\n",
    "print(len(vimg),'\\n',len(img),'\\n',len(lbe))"
   ]
  },
  {
   "cell_type": "code",
   "execution_count": null,
   "metadata": {},
   "outputs": [],
   "source": []
  }
 ],
 "metadata": {
  "kernelspec": {
   "display_name": "Python 3.8.13 ('yolo')",
   "language": "python",
   "name": "python3"
  },
  "language_info": {
   "codemirror_mode": {
    "name": "ipython",
    "version": 3
   },
   "file_extension": ".py",
   "mimetype": "text/x-python",
   "name": "python",
   "nbconvert_exporter": "python",
   "pygments_lexer": "ipython3",
   "version": "3.8.13"
  },
  "orig_nbformat": 4,
  "vscode": {
   "interpreter": {
    "hash": "d7d82ab55597995c92ece2bcf6b71afd59626072f289eee822e46cdca54c241f"
   }
  }
 },
 "nbformat": 4,
 "nbformat_minor": 2
}
